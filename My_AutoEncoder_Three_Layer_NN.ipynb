{
  "nbformat": 4,
  "nbformat_minor": 0,
  "metadata": {
    "colab": {
      "name": "My_AutoEncoder_Three_Layer_NN.ipynb",
      "provenance": [],
      "collapsed_sections": [
        "-pSZLCjS8oNn",
        "2OzC3Iqy8w7D",
        "mE61nhmbNHN_",
        "IGEMSXVDMyg4",
        "tHUSVpfwibt7"
      ]
    },
    "kernelspec": {
      "name": "python3",
      "display_name": "Python 3"
    },
    "language_info": {
      "name": "python"
    }
  },
  "cells": [
    {
      "cell_type": "markdown",
      "metadata": {
        "id": "-pSZLCjS8oNn"
      },
      "source": [
        "#Imports"
      ]
    },
    {
      "cell_type": "code",
      "metadata": {
        "id": "VfsOVP398pxR"
      },
      "source": [
        "import numpy as np\n",
        "import pandas as pd\n",
        "from tqdm import tqdm"
      ],
      "execution_count": 1,
      "outputs": []
    },
    {
      "cell_type": "markdown",
      "metadata": {
        "id": "2OzC3Iqy8w7D"
      },
      "source": [
        "#My Three Layer Neural Network"
      ]
    },
    {
      "cell_type": "code",
      "metadata": {
        "id": "5PAJJj9K8wJq"
      },
      "source": [
        "class My_Three_Line_Neural_Network:\n",
        "\n",
        "  def __init__(self):\n",
        "\n",
        "    pass\n",
        "\n",
        "  def _sigmoid_(self, n):\n",
        "\n",
        "    return 1 / (1 + np.exp(-n))\n",
        "\n",
        "  def _forward_(self, input, Wjis, Wkjs):\n",
        "\n",
        "    \"\"\"\n",
        "    X : [1, x] : Number of neurons in the first layer + 1 -> 9 * 1\n",
        "    Wjis : Number of neurons in the second layer * Number of neurons in the first layer -> 3 * 9\n",
        "    Wkjs : Number of neurons in the third layer * (Number of neurons in the second layer + 1) -> 8 * 4\n",
        "    \"\"\"\n",
        "\n",
        "    self.SUMjis = np.dot(Wjis, input) # SUMjis : 3 * 1\n",
        "    Y = self._sigmoid_(self.SUMjis) # 3 * 1\n",
        "\n",
        "    Y_ = np.append(1, Y) # 4 * 1\n",
        "\n",
        "    SUMkjs = np.dot(Wkjs, Y_) # SUMkjs : 8 * 1\n",
        "    Z = self._sigmoid_(SUMkjs) # 8 * 1\n",
        "\n",
        "    return Z, Y_, Y\n",
        "\n",
        "  def backward(self, input, Wjis, Wkjs, t, hidden_size, lr):\n",
        "\n",
        "    \"\"\"\n",
        "    t : target\n",
        "    \"\"\"\n",
        "\n",
        "    l_output = len(input) - 1 #ignore b\n",
        "\n",
        "    z, y_, y = self._forward_(input, Wjis, Wkjs)\n",
        "    \n",
        "    delta_k = z * (1 - z) * (t - z) # 8 * 1\n",
        "\n",
        "    delta_Wkj = [[] for i in range(l_output)]\n",
        "\n",
        "    for d in range(len(delta_k)):\n",
        "\n",
        "      for i in y_:\n",
        "\n",
        "        delta_Wkj[d].append(i * delta_k[d])\n",
        "    \n",
        "    Wkjs_without_b = Wkjs[:, 1:] # ignore b\n",
        "\n",
        "    delta_j = y * (1 - y) * np.dot(Wkjs_without_b.T, delta_k) # 3 * 1\n",
        "\n",
        "    delta_Wji = [[] for i in range(hidden_size)]\n",
        "\n",
        "    for d in range(len(delta_j)):\n",
        "\n",
        "      for i in input:\n",
        "\n",
        "        delta_Wji[d].append(i * delta_j[d])\n",
        "\n",
        "    \"\"\"\n",
        "    delta_Wkj -> 8 * 4\n",
        "    delta_Wji -> 3 * 9\n",
        "    \"\"\"\n",
        "\n",
        "    delta_Wkj = np.array(delta_Wkj)\n",
        "    delta_Wji = np.array(delta_Wji)\n",
        "\n",
        "    Wkjs = Wkjs + lr * delta_Wkj\n",
        "    Wjis = Wjis + lr * delta_Wji\n",
        "\n",
        "    return Wkjs, Wjis\n",
        "\n",
        "  def fit(self, df, hidden_size, epochs, lr):\n",
        "\n",
        "    \"\"\"\n",
        "    epochs : number of iterations\n",
        "    lr : learning rate\n",
        "    \"\"\"\n",
        "\n",
        "    features, target = df, df\n",
        "\n",
        "    self.Wji = np.random.random((hidden_size, len(features.columns) + 1)) / 10 # 3 * 9\n",
        "    self.Wkj = np.random.random((len(features.columns), hidden_size + 1)) / 10 # 8 * 4\n",
        "\n",
        "    for epoch in tqdm(range(epochs)):\n",
        "\n",
        "      for idx in range(len(features)):\n",
        "\n",
        "        new_sample = features.iloc[idx, :].to_numpy()\n",
        "        new_label = target.iloc[idx, :].to_numpy()      \n",
        "\n",
        "        X = np.append(1, new_sample)  # X = [1, x]        \n",
        "\n",
        "        self.Wkj, self.Wji  = self.backward(X, self.Wji, self.Wkj, new_label, hidden_size, lr)\n",
        "\n",
        "  def decimal_representation(self, df):\n",
        "\n",
        "    self.decimal_reps = []\n",
        "\n",
        "    for idx in range(len(df)):\n",
        "\n",
        "      sample = df.iloc[idx, :].to_numpy()\n",
        "      sample_ = np.append(1, sample)\n",
        "\n",
        "      predicted_target, _, decimal_rep = self._forward_(sample_, self.Wji, self.Wkj)\n",
        "\n",
        "      print(f\"{sample} -> {decimal_rep}\")\n",
        "\n",
        "      self.decimal_reps.append(decimal_rep)\n",
        "\n",
        "  def binary_representation(self, df):\n",
        "\n",
        "    self.results = np.array(self.decimal_reps)\n",
        "\n",
        "    self.results = np.where(self.results >= 0.5, 1, 0)\n",
        "\n",
        "    for idx in range(len(df)):\n",
        "\n",
        "      sample = df.iloc[idx, :].to_numpy()\n",
        "\n",
        "      print(f\"{sample} -> {self.results[idx]}\")"
      ],
      "execution_count": 2,
      "outputs": []
    },
    {
      "cell_type": "markdown",
      "metadata": {
        "id": "mE61nhmbNHN_"
      },
      "source": [
        "#Loading Data"
      ]
    },
    {
      "cell_type": "code",
      "metadata": {
        "colab": {
          "base_uri": "https://localhost:8080/",
          "height": 293
        },
        "id": "AG0F-xtANJsR",
        "outputId": "d673f598-f97a-4bc2-ab08-65401317ea5c"
      },
      "source": [
        "nb_classes = 8\n",
        "targets = np.array([[i for i in range(nb_classes)]]).reshape(-1)\n",
        "one_hot_targets = np.eye(nb_classes)[targets]\n",
        "\n",
        "df = pd.DataFrame(one_hot_targets)\n",
        "df.columns = [f\"feature{i}\" for i in range(1, nb_classes+1)]\n",
        "df"
      ],
      "execution_count": 3,
      "outputs": [
        {
          "output_type": "execute_result",
          "data": {
            "text/html": [
              "<div>\n",
              "<style scoped>\n",
              "    .dataframe tbody tr th:only-of-type {\n",
              "        vertical-align: middle;\n",
              "    }\n",
              "\n",
              "    .dataframe tbody tr th {\n",
              "        vertical-align: top;\n",
              "    }\n",
              "\n",
              "    .dataframe thead th {\n",
              "        text-align: right;\n",
              "    }\n",
              "</style>\n",
              "<table border=\"1\" class=\"dataframe\">\n",
              "  <thead>\n",
              "    <tr style=\"text-align: right;\">\n",
              "      <th></th>\n",
              "      <th>feature1</th>\n",
              "      <th>feature2</th>\n",
              "      <th>feature3</th>\n",
              "      <th>feature4</th>\n",
              "      <th>feature5</th>\n",
              "      <th>feature6</th>\n",
              "      <th>feature7</th>\n",
              "      <th>feature8</th>\n",
              "    </tr>\n",
              "  </thead>\n",
              "  <tbody>\n",
              "    <tr>\n",
              "      <th>0</th>\n",
              "      <td>1.0</td>\n",
              "      <td>0.0</td>\n",
              "      <td>0.0</td>\n",
              "      <td>0.0</td>\n",
              "      <td>0.0</td>\n",
              "      <td>0.0</td>\n",
              "      <td>0.0</td>\n",
              "      <td>0.0</td>\n",
              "    </tr>\n",
              "    <tr>\n",
              "      <th>1</th>\n",
              "      <td>0.0</td>\n",
              "      <td>1.0</td>\n",
              "      <td>0.0</td>\n",
              "      <td>0.0</td>\n",
              "      <td>0.0</td>\n",
              "      <td>0.0</td>\n",
              "      <td>0.0</td>\n",
              "      <td>0.0</td>\n",
              "    </tr>\n",
              "    <tr>\n",
              "      <th>2</th>\n",
              "      <td>0.0</td>\n",
              "      <td>0.0</td>\n",
              "      <td>1.0</td>\n",
              "      <td>0.0</td>\n",
              "      <td>0.0</td>\n",
              "      <td>0.0</td>\n",
              "      <td>0.0</td>\n",
              "      <td>0.0</td>\n",
              "    </tr>\n",
              "    <tr>\n",
              "      <th>3</th>\n",
              "      <td>0.0</td>\n",
              "      <td>0.0</td>\n",
              "      <td>0.0</td>\n",
              "      <td>1.0</td>\n",
              "      <td>0.0</td>\n",
              "      <td>0.0</td>\n",
              "      <td>0.0</td>\n",
              "      <td>0.0</td>\n",
              "    </tr>\n",
              "    <tr>\n",
              "      <th>4</th>\n",
              "      <td>0.0</td>\n",
              "      <td>0.0</td>\n",
              "      <td>0.0</td>\n",
              "      <td>0.0</td>\n",
              "      <td>1.0</td>\n",
              "      <td>0.0</td>\n",
              "      <td>0.0</td>\n",
              "      <td>0.0</td>\n",
              "    </tr>\n",
              "    <tr>\n",
              "      <th>5</th>\n",
              "      <td>0.0</td>\n",
              "      <td>0.0</td>\n",
              "      <td>0.0</td>\n",
              "      <td>0.0</td>\n",
              "      <td>0.0</td>\n",
              "      <td>1.0</td>\n",
              "      <td>0.0</td>\n",
              "      <td>0.0</td>\n",
              "    </tr>\n",
              "    <tr>\n",
              "      <th>6</th>\n",
              "      <td>0.0</td>\n",
              "      <td>0.0</td>\n",
              "      <td>0.0</td>\n",
              "      <td>0.0</td>\n",
              "      <td>0.0</td>\n",
              "      <td>0.0</td>\n",
              "      <td>1.0</td>\n",
              "      <td>0.0</td>\n",
              "    </tr>\n",
              "    <tr>\n",
              "      <th>7</th>\n",
              "      <td>0.0</td>\n",
              "      <td>0.0</td>\n",
              "      <td>0.0</td>\n",
              "      <td>0.0</td>\n",
              "      <td>0.0</td>\n",
              "      <td>0.0</td>\n",
              "      <td>0.0</td>\n",
              "      <td>1.0</td>\n",
              "    </tr>\n",
              "  </tbody>\n",
              "</table>\n",
              "</div>"
            ],
            "text/plain": [
              "   feature1  feature2  feature3  ...  feature6  feature7  feature8\n",
              "0       1.0       0.0       0.0  ...       0.0       0.0       0.0\n",
              "1       0.0       1.0       0.0  ...       0.0       0.0       0.0\n",
              "2       0.0       0.0       1.0  ...       0.0       0.0       0.0\n",
              "3       0.0       0.0       0.0  ...       0.0       0.0       0.0\n",
              "4       0.0       0.0       0.0  ...       0.0       0.0       0.0\n",
              "5       0.0       0.0       0.0  ...       1.0       0.0       0.0\n",
              "6       0.0       0.0       0.0  ...       0.0       1.0       0.0\n",
              "7       0.0       0.0       0.0  ...       0.0       0.0       1.0\n",
              "\n",
              "[8 rows x 8 columns]"
            ]
          },
          "metadata": {},
          "execution_count": 3
        }
      ]
    },
    {
      "cell_type": "code",
      "metadata": {
        "colab": {
          "base_uri": "https://localhost:8080/",
          "height": 171
        },
        "id": "Jpu4PyZbh7aa",
        "outputId": "3a82812a-739b-476e-aa99-41c86899d500"
      },
      "source": [
        "nb_classes = 4\n",
        "targets = np.array([[i for i in range(nb_classes)]]).reshape(-1)\n",
        "one_hot_targets = np.eye(nb_classes)[targets]\n",
        "\n",
        "df1 = pd.DataFrame(one_hot_targets)\n",
        "df1.columns = [f\"feature{i}\" for i in range(1, nb_classes+1)]\n",
        "df1"
      ],
      "execution_count": 8,
      "outputs": [
        {
          "output_type": "execute_result",
          "data": {
            "text/html": [
              "<div>\n",
              "<style scoped>\n",
              "    .dataframe tbody tr th:only-of-type {\n",
              "        vertical-align: middle;\n",
              "    }\n",
              "\n",
              "    .dataframe tbody tr th {\n",
              "        vertical-align: top;\n",
              "    }\n",
              "\n",
              "    .dataframe thead th {\n",
              "        text-align: right;\n",
              "    }\n",
              "</style>\n",
              "<table border=\"1\" class=\"dataframe\">\n",
              "  <thead>\n",
              "    <tr style=\"text-align: right;\">\n",
              "      <th></th>\n",
              "      <th>feature1</th>\n",
              "      <th>feature2</th>\n",
              "      <th>feature3</th>\n",
              "      <th>feature4</th>\n",
              "    </tr>\n",
              "  </thead>\n",
              "  <tbody>\n",
              "    <tr>\n",
              "      <th>0</th>\n",
              "      <td>1.0</td>\n",
              "      <td>0.0</td>\n",
              "      <td>0.0</td>\n",
              "      <td>0.0</td>\n",
              "    </tr>\n",
              "    <tr>\n",
              "      <th>1</th>\n",
              "      <td>0.0</td>\n",
              "      <td>1.0</td>\n",
              "      <td>0.0</td>\n",
              "      <td>0.0</td>\n",
              "    </tr>\n",
              "    <tr>\n",
              "      <th>2</th>\n",
              "      <td>0.0</td>\n",
              "      <td>0.0</td>\n",
              "      <td>1.0</td>\n",
              "      <td>0.0</td>\n",
              "    </tr>\n",
              "    <tr>\n",
              "      <th>3</th>\n",
              "      <td>0.0</td>\n",
              "      <td>0.0</td>\n",
              "      <td>0.0</td>\n",
              "      <td>1.0</td>\n",
              "    </tr>\n",
              "  </tbody>\n",
              "</table>\n",
              "</div>"
            ],
            "text/plain": [
              "   feature1  feature2  feature3  feature4\n",
              "0       1.0       0.0       0.0       0.0\n",
              "1       0.0       1.0       0.0       0.0\n",
              "2       0.0       0.0       1.0       0.0\n",
              "3       0.0       0.0       0.0       1.0"
            ]
          },
          "metadata": {},
          "execution_count": 8
        }
      ]
    },
    {
      "cell_type": "markdown",
      "metadata": {
        "id": "IGEMSXVDMyg4"
      },
      "source": [
        "#Train and Test the Model -> 3 layers"
      ]
    },
    {
      "cell_type": "code",
      "metadata": {
        "id": "nbtvHfwHJIsI"
      },
      "source": [
        "model = My_Three_Line_Neural_Network()"
      ],
      "execution_count": 4,
      "outputs": []
    },
    {
      "cell_type": "code",
      "metadata": {
        "colab": {
          "base_uri": "https://localhost:8080/"
        },
        "id": "j8uIpLZzXrYm",
        "outputId": "efff6a4e-5fac-4878-c367-4a71bff80cab"
      },
      "source": [
        "hidden_size = 3\n",
        "epochs = 100000\n",
        "lr = 0.02\n",
        "\n",
        "model.fit(df, hidden_size, epochs, lr)"
      ],
      "execution_count": 5,
      "outputs": [
        {
          "output_type": "stream",
          "name": "stderr",
          "text": [
            "100%|██████████| 100000/100000 [05:53<00:00, 282.57it/s]\n"
          ]
        }
      ]
    },
    {
      "cell_type": "code",
      "metadata": {
        "colab": {
          "base_uri": "https://localhost:8080/"
        },
        "id": "wQK5YKB7Ocv2",
        "outputId": "a6327ddd-3a40-40e0-e5a9-982d2df689ad"
      },
      "source": [
        "model.decimal_representation(df)"
      ],
      "execution_count": 6,
      "outputs": [
        {
          "output_type": "stream",
          "name": "stdout",
          "text": [
            "[1. 0. 0. 0. 0. 0. 0. 0.] -> [0.00471986 0.96084039 0.20281768]\n",
            "[0. 1. 0. 0. 0. 0. 0. 0.] -> [0.11281917 0.97825737 0.99385598]\n",
            "[0. 0. 1. 0. 0. 0. 0. 0.] -> [0.90155709 0.02921155 0.03646487]\n",
            "[0. 0. 0. 1. 0. 0. 0. 0.] -> [0.01408766 0.03509841 0.01696656]\n",
            "[0. 0. 0. 0. 1. 0. 0. 0.] -> [0.86796598 0.00588594 0.97740871]\n",
            "[0. 0. 0. 0. 0. 1. 0. 0.] -> [0.72544483 0.97002711 0.00572276]\n",
            "[0. 0. 0. 0. 0. 0. 1. 0.] -> [0.9939108  0.97807981 0.90234121]\n",
            "[0. 0. 0. 0. 0. 0. 0. 1.] -> [0.00818202 0.0371335  0.86562599]\n"
          ]
        }
      ]
    },
    {
      "cell_type": "code",
      "metadata": {
        "colab": {
          "base_uri": "https://localhost:8080/"
        },
        "id": "pGfHFm4WaZpF",
        "outputId": "c3548ccf-ea69-4aa6-8f3c-aca5978620de"
      },
      "source": [
        "model.binary_representation(df)"
      ],
      "execution_count": 7,
      "outputs": [
        {
          "output_type": "stream",
          "name": "stdout",
          "text": [
            "[1. 0. 0. 0. 0. 0. 0. 0.] -> [0 1 0]\n",
            "[0. 1. 0. 0. 0. 0. 0. 0.] -> [0 1 1]\n",
            "[0. 0. 1. 0. 0. 0. 0. 0.] -> [1 0 0]\n",
            "[0. 0. 0. 1. 0. 0. 0. 0.] -> [0 0 0]\n",
            "[0. 0. 0. 0. 1. 0. 0. 0.] -> [1 0 1]\n",
            "[0. 0. 0. 0. 0. 1. 0. 0.] -> [1 1 0]\n",
            "[0. 0. 0. 0. 0. 0. 1. 0.] -> [1 1 1]\n",
            "[0. 0. 0. 0. 0. 0. 0. 1.] -> [0 0 1]\n"
          ]
        }
      ]
    },
    {
      "cell_type": "markdown",
      "metadata": {
        "id": "tHUSVpfwibt7"
      },
      "source": [
        "#Train and Test the Model -> 2 layers"
      ]
    },
    {
      "cell_type": "code",
      "metadata": {
        "id": "FcfD4UkcifOk"
      },
      "source": [
        "model = My_Three_Line_Neural_Network()"
      ],
      "execution_count": 9,
      "outputs": []
    },
    {
      "cell_type": "code",
      "metadata": {
        "colab": {
          "base_uri": "https://localhost:8080/"
        },
        "id": "Eh11zp4ZilMh",
        "outputId": "90363e23-b2ea-493d-ba2d-dcf4526aa794"
      },
      "source": [
        "hidden_size = 2\n",
        "epochs = 50000\n",
        "lr = 0.02\n",
        "\n",
        "model.fit(df1, hidden_size, epochs, lr)"
      ],
      "execution_count": 10,
      "outputs": [
        {
          "output_type": "stream",
          "name": "stderr",
          "text": [
            "100%|██████████| 50000/50000 [01:21<00:00, 612.14it/s]\n"
          ]
        }
      ]
    },
    {
      "cell_type": "code",
      "metadata": {
        "colab": {
          "base_uri": "https://localhost:8080/"
        },
        "id": "rhNZOXniip59",
        "outputId": "fb6442c2-b0fe-4f19-b8e0-652aff9ec0f1"
      },
      "source": [
        "model.decimal_representation(df1)"
      ],
      "execution_count": 12,
      "outputs": [
        {
          "output_type": "stream",
          "name": "stdout",
          "text": [
            "[1. 0. 0. 0.] -> [0.02471676 0.02298302]\n",
            "[0. 1. 0. 0.] -> [0.01943916 0.98650995]\n",
            "[0. 0. 1. 0.] -> [0.98570333 0.02071661]\n",
            "[0. 0. 0. 1.] -> [0.97418174 0.97486342]\n"
          ]
        }
      ]
    },
    {
      "cell_type": "code",
      "metadata": {
        "colab": {
          "base_uri": "https://localhost:8080/"
        },
        "id": "1j7mGUqZisfQ",
        "outputId": "1e173efc-aa08-4f2f-e122-e5876faa38b7"
      },
      "source": [
        "model.binary_representation(df1)"
      ],
      "execution_count": 13,
      "outputs": [
        {
          "output_type": "stream",
          "name": "stdout",
          "text": [
            "[1. 0. 0. 0.] -> [0 0]\n",
            "[0. 1. 0. 0.] -> [0 1]\n",
            "[0. 0. 1. 0.] -> [1 0]\n",
            "[0. 0. 0. 1.] -> [1 1]\n"
          ]
        }
      ]
    }
  ]
}